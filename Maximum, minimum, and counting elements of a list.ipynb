{
 "cells": [
  {
   "cell_type": "code",
   "execution_count": null,
   "metadata": {},
   "outputs": [],
   "source": [
    "import numpy as np\n",
    "\n",
    "\"\"\"\n",
    "Consider the numbers 4,9,13,2,5,6,4,11.  \n",
    "It's easy enough to spot the maximum and minimum and to notice that the number 4 occurs twice.  \n",
    "But if the list is very long, it's harder to do that by eye, and you would like a program to do that.  \n",
    "\"\"\""
   ]
  },
  {
   "cell_type": "code",
   "execution_count": null,
   "metadata": {},
   "outputs": [],
   "source": [
    "\"\"\"\n",
    "Write a program called list_max_min_count which will:\n",
    "-Find the maximum element of the list.  \n",
    "    Hint:  make a new variable to keep track of the maximum number found so far.\n",
    "-Find the minimum element of the list.\n",
    "-Count how many elements of the list are strictly greater than 8\n",
    "\"\"\"\n",
    "\n",
    "def list_mix_min_count(list):\n",
    "    n = len(list)\n",
    "    max = list[0]\n",
    "    for i in range(0, n):\n",
    "        temp = list[i+1]\n",
    "        if temp > max:\n",
    "            max = list[i+1]\n",
    "    print(max)"
   ]
  }
 ],
 "metadata": {
  "kernelspec": {
   "display_name": "Python 3",
   "language": "python",
   "name": "python3"
  },
  "language_info": {
   "codemirror_mode": {
    "name": "ipython",
    "version": 3
   },
   "file_extension": ".py",
   "mimetype": "text/x-python",
   "name": "python",
   "nbconvert_exporter": "python",
   "pygments_lexer": "ipython3",
   "version": "3.7.4"
  }
 },
 "nbformat": 4,
 "nbformat_minor": 2
}

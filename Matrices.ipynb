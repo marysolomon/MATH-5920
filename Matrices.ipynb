{
 "cells": [
  {
   "cell_type": "code",
   "execution_count": 1,
   "metadata": {},
   "outputs": [],
   "source": [
    "import numpy as np"
   ]
  },
  {
   "cell_type": "code",
   "execution_count": 4,
   "metadata": {},
   "outputs": [
    {
     "name": "stdout",
     "output_type": "stream",
     "text": [
      "[[0. 1. 2. 3. 4.]\n",
      " [1. 0. 1. 2. 3.]\n",
      " [2. 1. 0. 1. 2.]\n",
      " [3. 2. 1. 0. 1.]\n",
      " [4. 3. 2. 1. 0.]]\n",
      "[[0. 1. 2. 3. 4. 5. 6. 7.]\n",
      " [1. 0. 1. 2. 3. 4. 5. 6.]\n",
      " [2. 1. 0. 1. 2. 3. 4. 5.]\n",
      " [3. 2. 1. 0. 1. 2. 3. 4.]\n",
      " [4. 3. 2. 1. 0. 1. 2. 3.]\n",
      " [5. 4. 3. 2. 1. 0. 1. 2.]\n",
      " [6. 5. 4. 3. 2. 1. 0. 1.]\n",
      " [7. 6. 5. 4. 3. 2. 1. 0.]]\n"
     ]
    }
   ],
   "source": [
    "### BANDED_MATRIX###\n",
    "\n",
    "\"\"\"\n",
    "Write a program called banded_matrix that uses nested for loops to produce an n by n (square) matrix A \n",
    "with 0's down the main diagonal, 1's in the entries just above and below the main diagonal, 2's above and below that, \n",
    "etc.  The matrix should look like this when n = 5:\n",
    "\"\"\"\n",
    "N = 5\n",
    "def banded_matrix(N):\n",
    "    M = np.zeros((N,N))\n",
    "    for i in range(0,N):\n",
    "        for j in range(0,N):\n",
    "            M[i][j] = abs(i-j)\n",
    "    print(M)\n",
    "\n",
    "banded_matrix(N)\n",
    "\n",
    "## Trying it when N=8 ##\n",
    "banded_matrix(8)"
   ]
  },
  {
   "cell_type": "code",
   "execution_count": 10,
   "metadata": {},
   "outputs": [
    {
     "data": {
      "text/plain": [
       "array([[0.        , 1.        , 0.5       , 0.33333333, 0.25      ],\n",
       "       [1.        , 0.        , 1.        , 0.5       , 0.33333333],\n",
       "       [0.5       , 1.        , 0.        , 1.        , 0.5       ],\n",
       "       [0.33333333, 0.5       , 1.        , 0.        , 1.        ],\n",
       "       [0.25      , 0.33333333, 0.5       , 1.        , 0.        ]])"
      ]
     },
     "execution_count": 10,
     "metadata": {},
     "output_type": "execute_result"
    }
   ],
   "source": [
    "### BANDED_MATRIX_2 ###\n",
    "\n",
    "\"\"\"\n",
    "Write a program called banded_matrix_2 which creates an n by n matrix with 1 on the main diagonal, \n",
    "1/2 above and below the main diagonal, 1/3 above and below that, and so on.\n",
    "\"\"\"\n",
    "def banded_matrix_2(N):\n",
    "    M = np.zeros((N,N))\n",
    "    for i in range(0,N):\n",
    "        for j in range(0, N):\n",
    "            if abs(i - j) == 0:\n",
    "                M[i][j] = 0\n",
    "            else:\n",
    "                M[i][j] = 1/abs(i-j)\n",
    "    return(M)\n",
    "\n",
    "banded_matrix_2(5)"
   ]
  },
  {
   "cell_type": "code",
   "execution_count": 16,
   "metadata": {},
   "outputs": [
    {
     "name": "stdout",
     "output_type": "stream",
     "text": [
      "[[2. 1. 0. 0. 0.]\n",
      " [1. 2. 1. 0. 0.]\n",
      " [0. 1. 2. 1. 0.]\n",
      " [0. 0. 1. 2. 1.]\n",
      " [0. 0. 0. 1. 2.]]\n",
      "[[2. 1. 0. 0. 0. 0. 0. 0. 0.]\n",
      " [1. 2. 1. 0. 0. 0. 0. 0. 0.]\n",
      " [0. 1. 2. 1. 0. 0. 0. 0. 0.]\n",
      " [0. 0. 1. 2. 1. 0. 0. 0. 0.]\n",
      " [0. 0. 0. 1. 2. 1. 0. 0. 0.]\n",
      " [0. 0. 0. 0. 1. 2. 1. 0. 0.]\n",
      " [0. 0. 0. 0. 0. 1. 2. 1. 0.]\n",
      " [0. 0. 0. 0. 0. 0. 1. 2. 1.]\n",
      " [0. 0. 0. 0. 0. 0. 0. 1. 2.]]\n"
     ]
    }
   ],
   "source": [
    "### ALMOST_DIAGONAL_MATRIX ###\n",
    "\n",
    "\"\"\"\n",
    "Write a program called almost_diagonal_matrix which creates an n by n matrix with 2 on the main diagonal, \n",
    "1 on the diagonals above and below the main diagonal, and 0 everywhere else.  \n",
    "Do this with nested for loops, and also do this with just one for loop.\n",
    "\"\"\"\n",
    "\n",
    "def almost_diagonal_matrix(N):\n",
    "    M = np.zeros((N,N))\n",
    "    for i in range(0, N):\n",
    "        for j in range(0, N):\n",
    "            dif = abs(i-j)\n",
    "            if dif == 0:\n",
    "                M[i][j] = 2\n",
    "            elif dif == 1:\n",
    "                M[i][j] = 1\n",
    "            else:\n",
    "                M[i][j] = 0\n",
    "    print(M)\n",
    "\n",
    "almost_diagonal_matrix(5)\n",
    "almost_diagonal_matrix(9)"
   ]
  },
  {
   "cell_type": "code",
   "execution_count": 14,
   "metadata": {},
   "outputs": [
    {
     "name": "stdout",
     "output_type": "stream",
     "text": [
      "[[0. 1. 2. 3. 4.]\n",
      " [4. 0. 1. 2. 3.]\n",
      " [3. 4. 0. 1. 2.]\n",
      " [2. 3. 4. 0. 1.]\n",
      " [1. 2. 3. 4. 0.]]\n"
     ]
    }
   ],
   "source": [
    "### CIRCULANT_MATRIX ###\n",
    "\n",
    "\"\"\"\n",
    "Write a program called circulant_matrix which creates an n by n circulant matrix with 0 on the main diagonal, \n",
    "1 above the main diagonal and in the lower left corner, 2 above the 1's, and so on, following the example below.  \n",
    "In other words, the first row contains the numbers 0,1, 2, 3, 4, the next row contains the same numbers,\n",
    "but with 4 at the beginning, and so on.\n",
    "\"\"\"\n",
    "\n",
    "def circulant_matrix (N):\n",
    "    M = np.zeros((N,N))\n",
    "    for i in range (0,N):\n",
    "        for j in range(0,N):\n",
    "            diff = i-j \n",
    "            if diff < 0:\n",
    "                M[i][j] = int(abs(diff))\n",
    "            if diff > 0:\n",
    "                M[i][j] = int(N - diff)\n",
    "    print(M)\n",
    "\n",
    "circulant_matrix(5)\n"
   ]
  },
  {
   "cell_type": "code",
   "execution_count": 8,
   "metadata": {},
   "outputs": [
    {
     "name": "stdout",
     "output_type": "stream",
     "text": [
      "[[0. 2. 3. 1. 7. 5. 6. 4.]\n",
      " [4. 0. 2. 3. 1. 7. 5. 6.]\n",
      " [6. 4. 0. 2. 3. 1. 7. 5.]\n",
      " [5. 6. 4. 0. 2. 3. 1. 7.]\n",
      " [7. 5. 6. 4. 0. 2. 3. 1.]\n",
      " [1. 7. 5. 6. 4. 0. 2. 3.]\n",
      " [3. 1. 7. 5. 6. 4. 0. 2.]\n",
      " [2. 3. 1. 7. 5. 6. 4. 0.]]\n"
     ]
    }
   ],
   "source": [
    "### REVISED CIRCULANT_MATRIX ###\n",
    "\n",
    "\"\"\"\n",
    "Revise circulant_matrix so that it will repeat a given first row vector by cycling its values as above.  \n",
    "Use first_row = [0 2 3 1 7 5 6 4], so that you can't just use arithmetic to fill in the values.\n",
    "\"\"\"\n",
    "first_row = [0,2,3,1,7,5,6,4] #type:list\n",
    "def rev_circulant_matrix(first_row):\n",
    "    N = len(first_row)\n",
    "    M = np.zeros((N,N))\n",
    "    for i in range(0,N):\n",
    "        for j in range(0,N):\n",
    "            #pos = j+1\n",
    "            M[i][j] = first_row[j]\n",
    "        #reorder the list, bring last to front and repopulate the rest.\n",
    "        #Source: https://www.geeksforgeeks.org/python-shift-last-element-to-first-position-in-list/\n",
    "        #I wonder if there's an alternative method, such as altering the indexing. \n",
    "        first_row.insert(0, first_row.pop())\n",
    "    print(M)\n",
    "\n",
    "rev_circulant_matrix(first_row)\n",
    "    "
   ]
  },
  {
   "cell_type": "code",
   "execution_count": null,
   "metadata": {},
   "outputs": [],
   "source": []
  }
 ],
 "metadata": {
  "kernelspec": {
   "display_name": "Python 3",
   "language": "python",
   "name": "python3"
  },
  "language_info": {
   "codemirror_mode": {
    "name": "ipython",
    "version": 3
   },
   "file_extension": ".py",
   "mimetype": "text/x-python",
   "name": "python",
   "nbconvert_exporter": "python",
   "pygments_lexer": "ipython3",
   "version": "3.7.4"
  }
 },
 "nbformat": 4,
 "nbformat_minor": 2
}

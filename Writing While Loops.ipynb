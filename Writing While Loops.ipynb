{
 "cells": [
  {
   "cell_type": "code",
   "execution_count": 4,
   "metadata": {},
   "outputs": [
    {
     "name": "stdout",
     "output_type": "stream",
     "text": [
      "1\n",
      "4\n",
      "9\n",
      "16\n",
      "25\n",
      "36\n",
      "49\n",
      "64\n",
      "81\n",
      "100\n",
      "121\n",
      "144\n",
      "169\n",
      "196\n",
      "225\n",
      "256\n",
      "289\n",
      "324\n",
      "361\n",
      "400\n",
      "441\n",
      "484\n",
      "529\n",
      "576\n",
      "625\n",
      "676\n",
      "729\n",
      "784\n",
      "841\n",
      "900\n",
      "961\n",
      "1024\n",
      "1089\n",
      "1156\n",
      "1225\n",
      "1296\n",
      "1369\n",
      "1444\n",
      "1521\n",
      "1600\n",
      "1681\n",
      "1764\n",
      "1849\n",
      "43 1849\n"
     ]
    }
   ],
   "source": [
    "# Write a program called square_greater_than_1777 that will figure out the smallest number n whose square is \n",
    "# greater than 1777, without using the square root function.  \n",
    "# The idea is to start a variable n at 1, check if n*n is greater than 1777, \n",
    "# and if not, increase the value of n, check again, and continue.  \n",
    "# Hint: the square is 1849\n",
    "\n",
    "n = 1\n",
    "i = 1\n",
    "while i < 1777:\n",
    "    i = n*n\n",
    "    n += 1\n",
    "    print(i)\n",
    "    \n",
    "    \n",
    "### Real Solution:\n",
    "n = 1\n",
    "while n*n < 1777:\n",
    "    n += 1\n",
    "print(n, n*n)\n"
   ]
  },
  {
   "cell_type": "code",
   "execution_count": 9,
   "metadata": {},
   "outputs": [
    {
     "name": "stdout",
     "output_type": "stream",
     "text": [
      "1000405 1415\n"
     ]
    }
   ],
   "source": [
    "### sum hits one million ###\n",
    "\n",
    "\"\"\"\n",
    "Write a program called sum_hits_one_million that will figure out how many terms in the sum 1+2+3+... \n",
    "it requires for the sum to exceed one million and what the value of the last term is.  \n",
    "\n",
    "The idea is to create one variable that will store the current value of the sum, \n",
    "another variable that keeps track of what number you are adding to the sum, \n",
    "and yet another variable to count the number of terms.  \n",
    "\n",
    "Use a while loop to add the current number to the sum repeatedly, and increase the count by 1 each time. \n",
    "The while loop should stop once the sum exceeds one million, \n",
    "then you print the value of the last term that was added to the sum and the value of the counter variable.  \n",
    "\n",
    "Hint:  the sum will be 1000405.\n",
    "\"\"\"\n",
    "\n",
    "s = 0\n",
    "i = 1\n",
    "while s < 1000000:\n",
    "    s = s + i\n",
    "    i += 1\n",
    "print(s, i)"
   ]
  },
  {
   "cell_type": "code",
   "execution_count": 12,
   "metadata": {},
   "outputs": [
    {
     "name": "stdout",
     "output_type": "stream",
     "text": [
      "15.000000378267234 1835422\n",
      "it takes 1835422 terms to obtain a sum greater than 15, which is 15.000000378267234424356502131559\n"
     ]
    }
   ],
   "source": [
    "### harmonic series ###\n",
    "\"\"\"\"\n",
    "The sum 1 + 1/2 + 1/3 + 1/4 + ... is called the harmonic series and is known to diverge to infinity; \n",
    "it gets bigger than every target number you have in mind.  The first four terms sum to 2.08333333333.  \n",
    "\n",
    "How many terms does it take for the sum to be greater than 15, and what is the value of the last term?  \n",
    "\n",
    "Write a program called harmonic_series to find the answer.  \n",
    "For R and Python, format the value of the sum with %0.30f to see lots of decimal places.\n",
    "\"\"\"\n",
    "\n",
    "i = 1\n",
    "s = 0\n",
    "while s <= 15:\n",
    "    s = s + 1/i\n",
    "    i += 1\n",
    "print(\"it takes %d terms to obtain a sum greater than 15, which is %0.30f\" % (i,s))"
   ]
  },
  {
   "cell_type": "code",
   "execution_count": 23,
   "metadata": {},
   "outputs": [
    {
     "name": "stdout",
     "output_type": "stream",
     "text": [
      "Position 1 in the Fibonacci sequence is 1\n",
      "Position 2 in the Fibonacci sequence is 2\n",
      "Position 3 in the Fibonacci sequence is 3\n",
      "Position 4 in the Fibonacci sequence is 5\n",
      "Position 5 in the Fibonacci sequence is 8\n",
      "Position 6 in the Fibonacci sequence is 13\n",
      "Position 7 in the Fibonacci sequence is 21\n",
      "Position 8 in the Fibonacci sequence is 34\n",
      "Position 9 in the Fibonacci sequence is 55\n",
      "Position 10 in the Fibonacci sequence is 89\n",
      "Position 11 in the Fibonacci sequence is 144\n",
      "Position 12 in the Fibonacci sequence is 233\n",
      "Position 13 in the Fibonacci sequence is 377\n",
      "Position 14 in the Fibonacci sequence is 610\n",
      "Position 15 in the Fibonacci sequence is 987\n",
      "Position 16 in the Fibonacci sequence is 1597\n",
      "Position 17 in the Fibonacci sequence is 2584\n",
      "Position 18 in the Fibonacci sequence is 4181\n",
      "Position 19 in the Fibonacci sequence is 6765\n",
      "Position 20 in the Fibonacci sequence is 10946\n"
     ]
    }
   ],
   "source": [
    "### Fibonacci ###\n",
    "\n",
    "\"\"\"\n",
    "Write a program called Fibonacci that will find and print to the screen all Fibonacci numbers up to \n",
    "the first one that is greater than 10,000, one per line.  \n",
    "\n",
    "The Fibonacci sequence is 1, 1, 2, 3, 5, 8, 13, ..., where each next number in the sequence is \n",
    "the sum of the previous two.  Each line should look like this model:  \"Position 6 in the Fibonacci sequence is 8.\"  \n",
    "\n",
    "This exercise differs from previous ones because here you need to keep track of \n",
    "both the \"previous\" and \"current\" Fibonacci number, and then update them over and over inside the while loop. \n",
    "\n",
    "Hint: 10946.\n",
    "\"\"\"\n",
    "\n",
    "target = 10000\n",
    "fp = 0\n",
    "fc = 1\n",
    "s=0\n",
    "i = 1\n",
    "while s <= 10000:\n",
    "    s = fp + fc\n",
    "    print(\"Position %d in the Fibonacci sequence is %d\" % (i, s))\n",
    "    fp = fc\n",
    "    fc = s\n",
    "    i += 1"
   ]
  }
 ],
 "metadata": {
  "kernelspec": {
   "display_name": "Python 3",
   "language": "python",
   "name": "python3"
  },
  "language_info": {
   "codemirror_mode": {
    "name": "ipython",
    "version": 3
   },
   "file_extension": ".py",
   "mimetype": "text/x-python",
   "name": "python",
   "nbconvert_exporter": "python",
   "pygments_lexer": "ipython3",
   "version": "3.7.4"
  }
 },
 "nbformat": 4,
 "nbformat_minor": 2
}

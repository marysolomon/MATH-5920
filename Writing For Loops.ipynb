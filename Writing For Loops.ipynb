{
 "cells": [
  {
   "cell_type": "code",
   "execution_count": 1,
   "metadata": {},
   "outputs": [
    {
     "name": "stdout",
     "output_type": "stream",
     "text": [
      "45150\n"
     ]
    }
   ],
   "source": [
    "### sum_to_300 ###\n",
    "\"\"\"\n",
    "Write a program called sum_to_300 that will calculate the sum 1+2+3+...+300.  \n",
    "The idea is to create a variable, s, that will store the current value of the sum.  \n",
    "Set it to zero, then use a for loop that is indexed by another variable, i, \n",
    "which will run through the numbers 1, 2, 3, ... and add each of these to the current sum.  \n",
    "After the for loop, print the value of the sum to the screen.  Hint: the correct answer ends with 150.\n",
    "\"\"\"\n",
    "\n",
    "s = 0\n",
    "for i in range(1,301): \n",
    "#loops starting at 1 through the range until 301, BUT NOT including value 301\n",
    "  s = s + i\n",
    "\n",
    "print(s)"
   ]
  },
  {
   "cell_type": "code",
   "execution_count": null,
   "metadata": {},
   "outputs": [],
   "source": []
  }
 ],
 "metadata": {
  "kernelspec": {
   "display_name": "Python 3",
   "language": "python",
   "name": "python3"
  },
  "language_info": {
   "codemirror_mode": {
    "name": "ipython",
    "version": 3
   },
   "file_extension": ".py",
   "mimetype": "text/x-python",
   "name": "python",
   "nbconvert_exporter": "python",
   "pygments_lexer": "ipython3",
   "version": "3.7.4"
  }
 },
 "nbformat": 4,
 "nbformat_minor": 2
}
